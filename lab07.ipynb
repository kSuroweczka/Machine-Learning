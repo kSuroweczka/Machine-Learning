{
  "nbformat": 4,
  "nbformat_minor": 0,
  "metadata": {
    "colab": {
      "provenance": []
    },
    "kernelspec": {
      "name": "python3",
      "display_name": "Python 3"
    },
    "language_info": {
      "name": "python"
    }
  },
  "cells": [
    {
      "cell_type": "code",
      "execution_count": 1,
      "metadata": {
        "id": "7E32iFyluDBc"
      },
      "outputs": [],
      "source": [
        "import pandas as pd\n",
        "from sklearn.datasets import fetch_openml\n",
        "import numpy as np\n",
        "mnist = fetch_openml('mnist_784', version=1, as_frame=False, parser='auto')\n",
        "mnist.target = mnist.target.astype(np.uint8)\n",
        "X = mnist[\"data\"]\n",
        "y = mnist[\"target\"]"
      ]
    },
    {
      "cell_type": "code",
      "source": [
        "from sklearn.cluster import KMeans\n",
        "from sklearn.metrics import silhouette_score\n",
        "kmeans8=KMeans(n_clusters=8, random_state=42)\n",
        "y_pred8=kmeans8.fit_predict(X)"
      ],
      "metadata": {
        "colab": {
          "base_uri": "https://localhost:8080/"
        },
        "id": "x_ypQPNNuNOm",
        "outputId": "cfbe71cc-606b-4fd7-c3ac-2f7ca84f139c"
      },
      "execution_count": 2,
      "outputs": [
        {
          "output_type": "stream",
          "name": "stderr",
          "text": [
            "/usr/local/lib/python3.10/dist-packages/sklearn/cluster/_kmeans.py:870: FutureWarning: The default value of `n_init` will change from 10 to 'auto' in 1.4. Set the value of `n_init` explicitly to suppress the warning\n",
            "  warnings.warn(\n"
          ]
        }
      ]
    },
    {
      "cell_type": "code",
      "source": [
        "kmeans9=KMeans(n_clusters=9, random_state=42)\n",
        "y_pred9=kmeans9.fit_predict(X)\n",
        "kmeans10=KMeans(n_clusters=10, random_state=42)\n",
        "y_pred10=kmeans10.fit_predict(X)\n",
        "kmeans11=KMeans(n_clusters=11, random_state=42)\n",
        "y_pred11=kmeans11.fit_predict(X)\n",
        "kmeans12=KMeans(n_clusters=12, random_state=42)\n",
        "y_pred12=kmeans12.fit_predict(X)"
      ],
      "metadata": {
        "colab": {
          "base_uri": "https://localhost:8080/"
        },
        "id": "jrp0BfFHuP1p",
        "outputId": "5986b35c-bc38-4022-da9c-640e34a4da6e"
      },
      "execution_count": 3,
      "outputs": [
        {
          "output_type": "stream",
          "name": "stderr",
          "text": [
            "/usr/local/lib/python3.10/dist-packages/sklearn/cluster/_kmeans.py:870: FutureWarning: The default value of `n_init` will change from 10 to 'auto' in 1.4. Set the value of `n_init` explicitly to suppress the warning\n",
            "  warnings.warn(\n",
            "/usr/local/lib/python3.10/dist-packages/sklearn/cluster/_kmeans.py:870: FutureWarning: The default value of `n_init` will change from 10 to 'auto' in 1.4. Set the value of `n_init` explicitly to suppress the warning\n",
            "  warnings.warn(\n",
            "/usr/local/lib/python3.10/dist-packages/sklearn/cluster/_kmeans.py:870: FutureWarning: The default value of `n_init` will change from 10 to 'auto' in 1.4. Set the value of `n_init` explicitly to suppress the warning\n",
            "  warnings.warn(\n",
            "/usr/local/lib/python3.10/dist-packages/sklearn/cluster/_kmeans.py:870: FutureWarning: The default value of `n_init` will change from 10 to 'auto' in 1.4. Set the value of `n_init` explicitly to suppress the warning\n",
            "  warnings.warn(\n"
          ]
        }
      ]
    },
    {
      "cell_type": "code",
      "source": [
        "silhouette_list=[silhouette_score(X, kmeans8.labels_),\n",
        "                 silhouette_score(X, kmeans9.labels_),\n",
        "                 silhouette_score(X, kmeans10.labels_),\n",
        "                 silhouette_score(X, kmeans11.labels_),\n",
        "                 silhouette_score(X, kmeans12.labels_)]\n",
        "print(silhouette_list)"
      ],
      "metadata": {
        "colab": {
          "base_uri": "https://localhost:8080/"
        },
        "id": "CiSRYzBvuS3A",
        "outputId": "07b766cd-b347-4d85-b348-c46b9c0aa8f4"
      },
      "execution_count": 4,
      "outputs": [
        {
          "output_type": "stream",
          "name": "stdout",
          "text": [
            "[0.07338401965925966, 0.05683381826333592, 0.05869201052848778, 0.05836351154790604, 0.05894738457992754]\n"
          ]
        }
      ]
    },
    {
      "cell_type": "code",
      "source": [
        "import pickle as pkl\n",
        "\n",
        "with open(\"kmeans_sil.pkl\", \"wb\") as f:\n",
        "  pkl.dump(silhouette_list, f)"
      ],
      "metadata": {
        "id": "-erGVWA_uXAL"
      },
      "execution_count": 5,
      "outputs": []
    },
    {
      "cell_type": "code",
      "source": [
        "from sklearn.metrics import confusion_matrix\n",
        "\n",
        "conf_mx = confusion_matrix(y, y_pred10)"
      ],
      "metadata": {
        "id": "POD16hD-ubH-"
      },
      "execution_count": 6,
      "outputs": []
    },
    {
      "cell_type": "code",
      "source": [
        "import pickle as pkl\n",
        "list=[]\n",
        "df=pd.DataFrame(conf_mx)\n",
        "for i, row in df.iterrows():\n",
        "    list.append(row.argmax())\n",
        "print(list)\n",
        "list=np.array(list)\n",
        "print(list)\n",
        "list=np.unique(list)\n",
        "print(list)\n",
        "\n",
        "with open(\"kmeans_argmax.pkl\", \"wb\") as f:\n",
        "    pkl.dump(list, f)"
      ],
      "metadata": {
        "colab": {
          "base_uri": "https://localhost:8080/"
        },
        "id": "59CHJeVOufCu",
        "outputId": "bf1bd824-8022-47f2-f3c9-2b6707af4523"
      },
      "execution_count": 7,
      "outputs": [
        {
          "output_type": "stream",
          "name": "stdout",
          "text": [
            "[9, 1, 4, 0, 3, 0, 6, 5, 8, 3]\n",
            "[9 1 4 0 3 0 6 5 8 3]\n",
            "[0 1 3 4 5 6 8 9]\n"
          ]
        }
      ]
    },
    {
      "cell_type": "code",
      "source": [
        "from sklearn.cluster import DBSCAN\n",
        "distances = np.array([np.linalg.norm(X[0:300] - x, axis=1) for x in X])\n",
        "\n",
        "sorted_distances = np.sort(distances.flatten())\n",
        "non_zero_distances = sorted_distances[sorted_distances != 0]\n",
        "selected_distances = non_zero_distances[0:10]"
      ],
      "metadata": {
        "id": "qAW7Sd9Euja6"
      },
      "execution_count": 8,
      "outputs": []
    },
    {
      "cell_type": "code",
      "source": [
        "dist_list = selected_distances.tolist()\n",
        "with open('dist.pkl', 'wb') as f:\n",
        "    pkl.dump(dist_list, f)"
      ],
      "metadata": {
        "id": "Nj2t6VZFumeU"
      },
      "execution_count": 9,
      "outputs": []
    },
    {
      "cell_type": "code",
      "source": [
        "s = np.mean(selected_distances[0:3])\n",
        "eps_range = np.arange(s, s + 0.1 * s, 0.04 * s)\n",
        "unique_label_counts = []\n",
        "for eps in eps_range:\n",
        "    dbscan = DBSCAN(eps=eps, min_samples=5)\n",
        "    dbscan.fit(X)\n",
        "    unique_labels = len(np.unique(dbscan.labels_))\n",
        "    unique_label_counts.append(unique_labels)"
      ],
      "metadata": {
        "id": "gBapK_Bruplm"
      },
      "execution_count": 10,
      "outputs": []
    },
    {
      "cell_type": "code",
      "source": [
        "with open('dbscan_len.pkl', 'wb') as f:\n",
        "    pkl.dump(unique_label_counts, f)"
      ],
      "metadata": {
        "id": "Q86ugTM9uwB_"
      },
      "execution_count": 11,
      "outputs": []
    },
    {
      "cell_type": "code",
      "source": [],
      "metadata": {
        "id": "fcUz_k1qE-5w"
      },
      "execution_count": null,
      "outputs": []
    }
  ]
}