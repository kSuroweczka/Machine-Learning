{
 "cells": [
  {
   "cell_type": "code",
   "execution_count": 25,
   "metadata": {
    "collapsed": true
   },
   "outputs": [],
   "source": [
    "import pandas as pd\n",
    "import pickle as pkl\n",
    "from sklearn.decomposition import PCA\n",
    "from sklearn.preprocessing import StandardScaler"
   ]
  },
  {
   "cell_type": "markdown",
   "metadata": {},
   "source": [
    "## BREAST_CANCER"
   ]
  },
  {
   "cell_type": "code",
   "execution_count": 24,
   "metadata": {},
   "outputs": [
    {
     "name": "stdout",
     "output_type": "stream",
     "text": [
      "(569, 30)\n",
      "[0.98204467]\n",
      "[0.44272026 0.18971182 0.09393163 0.06602135 0.05495768 0.04024522\n",
      " 0.02250734]\n"
     ]
    }
   ],
   "source": [
    "from sklearn import datasets\n",
    "data_breast_cancer = datasets.load_breast_cancer()\n",
    "\n",
    "X_breast=data_breast_cancer.data\n",
    "print(data_breast_cancer.data.shape)\n",
    "\n",
    "###Without Scaling\n",
    "X_breast=pd.DataFrame(X_breast)\n",
    "pca_breast = PCA(n_components=0.9)\n",
    "X_breast_pca = pca_breast.fit_transform(X_breast)\n",
    "print(pca_breast.explained_variance_ratio_)\n",
    "\n",
    "###With Scaling\n",
    "X_breast_scaled = StandardScaler().fit_transform(X_breast)\n",
    "pca_breast_scaled = PCA(n_components=0.9)\n",
    "X_pca_breast_scaled = pca_breast_scaled.fit_transform(X_breast_scaled)\n",
    "print(pca_breast_scaled.explained_variance_ratio_)\n",
    "\n",
    "with open(\"pca_bc.pkl\", \"wb\") as f:\n",
    "    pkl.dump(list(pca_breast_scaled.explained_variance_ratio_), f)"
   ]
  },
  {
   "cell_type": "markdown",
   "metadata": {},
   "source": [
    "## IRIS"
   ]
  },
  {
   "cell_type": "code",
   "execution_count": 28,
   "metadata": {},
   "outputs": [
    {
     "name": "stdout",
     "output_type": "stream",
     "text": [
      "(150, 4)\n",
      "[0.92461872]\n",
      "[0.72962445 0.22850762]\n"
     ]
    }
   ],
   "source": [
    "from sklearn.datasets import load_iris\n",
    "data_iris = load_iris()\n",
    "\n",
    "X_iris=data_iris.data\n",
    "print( data_iris.data.shape)\n",
    "\n",
    "###Without Scaling\n",
    "X_iris=pd.DataFrame(X_iris)\n",
    "pca_iris=PCA(n_components=0.9)\n",
    "X_iris_pca=pca_iris.fit_transform(X_iris)\n",
    "print(pca_iris.explained_variance_ratio_)\n",
    "\n",
    "###With Scaling\n",
    "X_iris_scaled=StandardScaler().fit_transform(X_iris)\n",
    "pca_iris_scaled=PCA(n_components=0.9)\n",
    "X_iris_pca_scaled=pca_iris_scaled.fit_transform(X_iris_scaled)\n",
    "print(pca_iris_scaled.explained_variance_ratio_)\n",
    "\n",
    "with open(\"pca_ir.pkl\", \"wb\") as f:\n",
    "    pkl.dump(list(pca_iris_scaled.explained_variance_ratio_),f)"
   ]
  },
  {
   "cell_type": "code",
   "execution_count": 29,
   "metadata": {},
   "outputs": [
    {
     "name": "stdout",
     "output_type": "stream",
     "text": [
      "[7, 9, 11, 21, 4, 28, 29]\n"
     ]
    }
   ],
   "source": [
    "idx_breast = [list(pca_breast_scaled.components_[i]).index(max(pca_breast_scaled.components_[i], key=abs)) for i in range(pca_breast_scaled.n_components_)]\n",
    "print(idx_breast)\n",
    "with open('idx_bc.pkl', 'wb') as f:\n",
    "    pkl.dump(idx_breast, f)"
   ]
  },
  {
   "cell_type": "code",
   "execution_count": 30,
   "metadata": {},
   "outputs": [
    {
     "name": "stdout",
     "output_type": "stream",
     "text": [
      "[2, 1]\n"
     ]
    }
   ],
   "source": [
    "idx_iris = [list(pca_iris_scaled.components_[i]).index(max(pca_iris_scaled.components_[i], key=abs)) for i in range(pca_iris_scaled.n_components_)]\n",
    "print(idx_iris)\n",
    "with open('idx_ir.pkl', 'wb') as f:\n",
    "    pkl.dump(idx_iris, f)"
   ]
  }
 ],
 "metadata": {
  "kernelspec": {
   "display_name": "Python 3 (ipykernel)",
   "language": "python",
   "name": "python3"
  },
  "language_info": {
   "codemirror_mode": {
    "name": "ipython",
    "version": 3
   },
   "file_extension": ".py",
   "mimetype": "text/x-python",
   "name": "python",
   "nbconvert_exporter": "python",
   "pygments_lexer": "ipython3",
   "version": "3.11.1"
  }
 },
 "nbformat": 4,
 "nbformat_minor": 1
}
