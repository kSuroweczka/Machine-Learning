{
 "cells": [
  {
   "cell_type": "code",
   "execution_count": 92,
   "metadata": {
    "collapsed": true
   },
   "outputs": [],
   "source": [
    "from sklearn import datasets\n",
    "data_breast_cancer = datasets.load_breast_cancer(as_frame=True)"
   ]
  },
  {
   "cell_type": "markdown",
   "metadata": {},
   "source": [
    "Exercise 1"
   ]
  },
  {
   "cell_type": "code",
   "execution_count": 93,
   "metadata": {},
   "outputs": [],
   "source": [
    "from sklearn.model_selection import train_test_split\n",
    "\n",
    "X_train,X_test,y_train,y_test=train_test_split(data_breast_cancer.data, data_breast_cancer.target, test_size=0.2, random_state=42)"
   ]
  },
  {
   "cell_type": "markdown",
   "metadata": {},
   "source": [
    "Exercise 2 + 3"
   ]
  },
  {
   "cell_type": "code",
   "execution_count": 94,
   "metadata": {},
   "outputs": [
    {
     "name": "stdout",
     "output_type": "stream",
     "text": [
      "     mean texture  mean symmetry\n",
      "68          17.33         0.2111\n",
      "181         26.57         0.2395\n",
      "63          13.86         0.2341\n",
      "248         25.22         0.1897\n",
      "60          14.88         0.2743\n",
      "..            ...            ...\n",
      "71          14.64         0.1902\n",
      "106         18.33         0.1801\n",
      "270         16.82         0.1508\n",
      "435         19.62         0.1669\n",
      "102         20.52         0.1739\n",
      "\n",
      "[455 rows x 2 columns]\n"
     ]
    }
   ],
   "source": [
    "from sklearn.tree import DecisionTreeClassifier\n",
    "import sklearn\n",
    "from sklearn.linear_model import LogisticRegression\n",
    "import sklearn.neighbors\n",
    "from sklearn.ensemble import VotingClassifier\n",
    "\n",
    "# Zbuduj ensemble używając klasyfikatorów binarnych, których używałeś(aś) w poprzednich\n",
    "# ćwiczeniach, tj.:\n",
    "# drzewa decyzyjne,\n",
    "# regresja logistyczna,\n",
    "# k najbliższych sąsiadów,\n",
    "# do klasyfikacji w oparciu o cechy: mean texture, mean symmetry. Użyj domyślnych parametrów.\n",
    "\n",
    "X_train=X_train[[\"mean texture\", \"mean symmetry\"]]\n",
    "X_test=X_test[[\"mean texture\", \"mean symmetry\"]]\n",
    "print(X_train)\n",
    "log_reg = LogisticRegression()\n",
    "knn_clf = sklearn.neighbors.KNeighborsClassifier()\n",
    "tree_clf=DecisionTreeClassifier()\n",
    "\n",
    "voting_clf_1 = VotingClassifier( estimators=[('lr', log_reg), ('kc', knn_clf), ('tc', tree_clf)])\n",
    "voting_clf_2 = VotingClassifier( estimators=[('lr', log_reg), ('kc', knn_clf), ('tc', tree_clf)], voting='soft')"
   ]
  },
  {
   "cell_type": "markdown",
   "metadata": {},
   "source": [
    "Exercise 4 + 5"
   ]
  },
  {
   "cell_type": "code",
   "execution_count": 95,
   "metadata": {},
   "outputs": [
    {
     "name": "stdout",
     "output_type": "stream",
     "text": [
      "[(1.0, 0.631578947368421), (0.7230769230769231, 0.7017543859649122), (0.7714285714285715, 0.6403508771929824), (0.8351648351648352, 0.7017543859649122), (0.9648351648351648, 0.6666666666666666)]\n",
      "[DecisionTreeClassifier(), LogisticRegression(), KNeighborsClassifier(), VotingClassifier(estimators=[('lr', LogisticRegression()),\n",
      "                             ('kc', KNeighborsClassifier()),\n",
      "                             ('tc', DecisionTreeClassifier())]), VotingClassifier(estimators=[('lr', LogisticRegression()),\n",
      "                             ('kc', KNeighborsClassifier()),\n",
      "                             ('tc', DecisionTreeClassifier())],\n",
      "                 voting='soft')]\n"
     ]
    }
   ],
   "source": [
    "from sklearn.metrics import accuracy_score\n",
    "import pickle as pkl\n",
    "list_accuracy=[]\n",
    "list_clf=[]\n",
    "list_clf.append(tree_clf)\n",
    "list_clf.append(log_reg)\n",
    "list_clf.append(knn_clf)\n",
    "list_clf.append(voting_clf_1)\n",
    "list_clf.append(voting_clf_2)\n",
    "\n",
    "for clf in (tree_clf, log_reg, knn_clf, voting_clf_1, voting_clf_2):\n",
    "    clf.fit(X_train, y_train)\n",
    "    y_pred_train=clf.predict(X_train)\n",
    "    y_pred_test = clf.predict(X_test)\n",
    "    train_acc=accuracy_score(y_train, y_pred_train)\n",
    "    test_acc=accuracy_score(y_test, y_pred_test)\n",
    "    list_accuracy.append((train_acc,test_acc))\n",
    "print(list_accuracy)\n",
    "print(list_clf)\n",
    "with open(\"acc_vote.pkl\", \"wb\") as f:\n",
    "    pkl.dump(list_accuracy, f)\n",
    "\n",
    "with open(\"vote.pkl\", \"wb\") as f:\n",
    "    pkl.dump(list_clf, f)"
   ]
  },
  {
   "cell_type": "markdown",
   "metadata": {},
   "source": [
    "Exercise 6"
   ]
  },
  {
   "cell_type": "code",
   "execution_count": 96,
   "metadata": {},
   "outputs": [
    {
     "name": "stdout",
     "output_type": "stream",
     "text": [
      "[(0.989010989010989, 0.6842105263157895), (0.9164835164835164, 0.6842105263157895), (1.0, 0.6140350877192983), (0.9582417582417583, 0.6754385964912281), (0.9978021978021978, 0.6754385964912281), (0.8, 0.7368421052631579), (0.8373626373626374, 0.7105263157894737)]\n"
     ]
    }
   ],
   "source": [
    "from sklearn.ensemble import BaggingClassifier, GradientBoostingClassifier\n",
    "from sklearn.ensemble import RandomForestClassifier\n",
    "from sklearn.ensemble import AdaBoostClassifier\n",
    "from sklearn.ensemble import GradientBoostingRegressor\n",
    "\n",
    "bag_clf = BaggingClassifier( DecisionTreeClassifier(), n_estimators=30, bootstrap=True)\n",
    "bag_clf_50 = BaggingClassifier( DecisionTreeClassifier(), n_estimators=30, max_samples=0.5, bootstrap=True)\n",
    "\n",
    "pass_clf = BaggingClassifier( DecisionTreeClassifier(), n_estimators=30, bootstrap=False)\n",
    "pass_clf_50 = BaggingClassifier( DecisionTreeClassifier(), n_estimators=30, max_samples=0.5, bootstrap=False)\n",
    "\n",
    "rnd_clf = RandomForestClassifier(n_estimators=30)\n",
    "ab_clf = AdaBoostClassifier(n_estimators=30)\n",
    "gbrt_clf = GradientBoostingClassifier(n_estimators=30)\n",
    "\n",
    "list_score=[]\n",
    "list_clf=[]\n",
    "\n",
    "for clf in (bag_clf,bag_clf_50,pass_clf,pass_clf_50,rnd_clf,ab_clf,gbrt_clf):\n",
    "    clf.fit(X_train,y_train)\n",
    "    y_pred_train=clf.predict(X_train)\n",
    "    y_pred_test=clf.predict(X_test)\n",
    "    train_acc=accuracy_score(y_train,y_pred_train)\n",
    "    test_acc=accuracy_score(y_test, y_pred_test)\n",
    "    list_score.append((train_acc,test_acc))\n",
    "\n",
    "with open(\"acc_bag.pkl\", \"wb\") as f:\n",
    "    pkl.dump(list_score, f)\n",
    "\n",
    "print(list_score)\n",
    "\n",
    "list_clf=[bag_clf,bag_clf_50,pass_clf,pass_clf_50,rnd_clf,ab_clf,gbrt_clf]\n",
    "\n",
    "with open(\"bag.pkl\", \"wb\") as f:\n",
    "    pkl.dump(list_clf, f)"
   ]
  },
  {
   "cell_type": "markdown",
   "metadata": {},
   "source": [
    "Exercise 7 + 8"
   ]
  },
  {
   "cell_type": "code",
   "execution_count": 97,
   "metadata": {},
   "outputs": [
    {
     "name": "stdout",
     "output_type": "stream",
     "text": [
      "[0.9934065934065934, 0.9473684210526315]\n"
     ]
    }
   ],
   "source": [
    "import numpy as np\n",
    "features_list=data_breast_cancer[\"feature_names\"]\n",
    "feature_number=len(features_list)\n",
    "\n",
    "X_train,X_test,y_train,y_test=train_test_split(data_breast_cancer.data, data_breast_cancer.target, test_size=0.2, random_state=42)\n",
    "bag_clf_50_2 = BaggingClassifier( DecisionTreeClassifier(), n_estimators=30, max_samples=0.5, max_features=2,bootstrap=True)\n",
    "bag_clf_50_2.fit(X_train,y_train)\n",
    "y_pred_train=bag_clf_50_2.predict(X_train)\n",
    "y_pred_test=bag_clf_50_2.predict(X_test)\n",
    "train_acc=accuracy_score(y_train,y_pred_train)\n",
    "test_acc=accuracy_score(y_test, y_pred_test)\n",
    "list=[train_acc,test_acc]\n",
    "list_clf=[bag_clf_50_2]\n",
    "print(list)\n",
    "with open(\"acc_fea.pkl\", \"wb\") as f:\n",
    "    pkl.dump(list, f)\n",
    "\n",
    "with open(\"fea.pkl\", \"wb\") as f:\n",
    "    pkl.dump(list_clf, f)"
   ]
  },
  {
   "cell_type": "markdown",
   "metadata": {},
   "source": [
    "Exercise 9"
   ]
  },
  {
   "cell_type": "code",
   "execution_count": 98,
   "metadata": {},
   "outputs": [
    {
     "name": "stdout",
     "output_type": "stream",
     "text": [
      "    Train Accuracy  Test Accuracy  \\\n",
      "17        0.943662       0.958042   \n",
      "14        0.948357       0.951049   \n",
      "24        0.913146       0.951049   \n",
      "27        0.924883       0.923077   \n",
      "10        0.929577       0.916084   \n",
      "28        0.892019       0.916084   \n",
      "18        0.946009       0.909091   \n",
      "20        0.929577       0.902098   \n",
      "11        0.922535       0.895105   \n",
      "3         0.910798       0.895105   \n",
      "8         0.901408       0.895105   \n",
      "19        0.908451       0.888112   \n",
      "13        0.934272       0.881119   \n",
      "22        0.929577       0.881119   \n",
      "5         0.924883       0.881119   \n",
      "25        0.913146       0.881119   \n",
      "15        0.924883       0.867133   \n",
      "6         0.917840       0.867133   \n",
      "9         0.908451       0.867133   \n",
      "1         0.924883       0.860140   \n",
      "4         0.849765       0.860140   \n",
      "7         0.917840       0.853147   \n",
      "26        0.870892       0.839161   \n",
      "29        0.873239       0.818182   \n",
      "16        0.887324       0.797203   \n",
      "21        0.873239       0.776224   \n",
      "2         0.828638       0.769231   \n",
      "12        0.875587       0.755245   \n",
      "0         0.793427       0.748252   \n",
      "23        0.807512       0.657343   \n",
      "\n",
      "                                           Features  \n",
      "17               [worst perimeter, worst concavity]  \n",
      "14             [worst area, mean fractal dimension]  \n",
      "24                [symmetry error, worst perimeter]  \n",
      "27                   [mean radius, worst perimeter]  \n",
      "10         [worst concave points, worst smoothness]  \n",
      "28             [fractal dimension error, mean area]  \n",
      "18                    [worst concavity, worst area]  \n",
      "20         [worst compactness, mean concave points]  \n",
      "11         [worst concave points, smoothness error]  \n",
      "3                   [mean compactness, mean radius]  \n",
      "8            [mean concave points, perimeter error]  \n",
      "19                       [area error, worst radius]  \n",
      "13         [compactness error, mean concave points]  \n",
      "22         [compactness error, mean concave points]  \n",
      "5              [mean concave points, worst texture]  \n",
      "25               [mean perimeter, mean compactness]  \n",
      "15      [worst concave points, mean concave points]  \n",
      "6                       [mean texture, mean radius]  \n",
      "9                  [mean concavity, worst symmetry]  \n",
      "1            [perimeter error, mean concave points]  \n",
      "4                    [perimeter error, mean radius]  \n",
      "7             [symmetry error, mean concave points]  \n",
      "26                        [mean radius, area error]  \n",
      "29                 [radius error, mean compactness]  \n",
      "16                  [mean texture, worst concavity]  \n",
      "21                 [worst texture, worst concavity]  \n",
      "2                [perimeter error, concavity error]  \n",
      "12            [compactness error, mean compactness]  \n",
      "0   [worst fractal dimension, concave points error]  \n",
      "23                    [mean texture, mean symmetry]  \n"
     ]
    },
    {
     "name": "stderr",
     "output_type": "stream",
     "text": [
      "C:\\Users\\karol\\DataspellProjects\\dsProject\\venv\\lib\\site-packages\\sklearn\\base.py:432: UserWarning: X has feature names, but DecisionTreeClassifier was fitted without feature names\n",
      "  warnings.warn(\n",
      "C:\\Users\\karol\\DataspellProjects\\dsProject\\venv\\lib\\site-packages\\sklearn\\base.py:432: UserWarning: X has feature names, but DecisionTreeClassifier was fitted without feature names\n",
      "  warnings.warn(\n",
      "C:\\Users\\karol\\DataspellProjects\\dsProject\\venv\\lib\\site-packages\\sklearn\\base.py:432: UserWarning: X has feature names, but DecisionTreeClassifier was fitted without feature names\n",
      "  warnings.warn(\n",
      "C:\\Users\\karol\\DataspellProjects\\dsProject\\venv\\lib\\site-packages\\sklearn\\base.py:432: UserWarning: X has feature names, but DecisionTreeClassifier was fitted without feature names\n",
      "  warnings.warn(\n",
      "C:\\Users\\karol\\DataspellProjects\\dsProject\\venv\\lib\\site-packages\\sklearn\\base.py:432: UserWarning: X has feature names, but DecisionTreeClassifier was fitted without feature names\n",
      "  warnings.warn(\n",
      "C:\\Users\\karol\\DataspellProjects\\dsProject\\venv\\lib\\site-packages\\sklearn\\base.py:432: UserWarning: X has feature names, but DecisionTreeClassifier was fitted without feature names\n",
      "  warnings.warn(\n",
      "C:\\Users\\karol\\DataspellProjects\\dsProject\\venv\\lib\\site-packages\\sklearn\\base.py:432: UserWarning: X has feature names, but DecisionTreeClassifier was fitted without feature names\n",
      "  warnings.warn(\n",
      "C:\\Users\\karol\\DataspellProjects\\dsProject\\venv\\lib\\site-packages\\sklearn\\base.py:432: UserWarning: X has feature names, but DecisionTreeClassifier was fitted without feature names\n",
      "  warnings.warn(\n",
      "C:\\Users\\karol\\DataspellProjects\\dsProject\\venv\\lib\\site-packages\\sklearn\\base.py:432: UserWarning: X has feature names, but DecisionTreeClassifier was fitted without feature names\n",
      "  warnings.warn(\n",
      "C:\\Users\\karol\\DataspellProjects\\dsProject\\venv\\lib\\site-packages\\sklearn\\base.py:432: UserWarning: X has feature names, but DecisionTreeClassifier was fitted without feature names\n",
      "  warnings.warn(\n",
      "C:\\Users\\karol\\DataspellProjects\\dsProject\\venv\\lib\\site-packages\\sklearn\\base.py:432: UserWarning: X has feature names, but DecisionTreeClassifier was fitted without feature names\n",
      "  warnings.warn(\n",
      "C:\\Users\\karol\\DataspellProjects\\dsProject\\venv\\lib\\site-packages\\sklearn\\base.py:432: UserWarning: X has feature names, but DecisionTreeClassifier was fitted without feature names\n",
      "  warnings.warn(\n",
      "C:\\Users\\karol\\DataspellProjects\\dsProject\\venv\\lib\\site-packages\\sklearn\\base.py:432: UserWarning: X has feature names, but DecisionTreeClassifier was fitted without feature names\n",
      "  warnings.warn(\n",
      "C:\\Users\\karol\\DataspellProjects\\dsProject\\venv\\lib\\site-packages\\sklearn\\base.py:432: UserWarning: X has feature names, but DecisionTreeClassifier was fitted without feature names\n",
      "  warnings.warn(\n",
      "C:\\Users\\karol\\DataspellProjects\\dsProject\\venv\\lib\\site-packages\\sklearn\\base.py:432: UserWarning: X has feature names, but DecisionTreeClassifier was fitted without feature names\n",
      "  warnings.warn(\n",
      "C:\\Users\\karol\\DataspellProjects\\dsProject\\venv\\lib\\site-packages\\sklearn\\base.py:432: UserWarning: X has feature names, but DecisionTreeClassifier was fitted without feature names\n",
      "  warnings.warn(\n",
      "C:\\Users\\karol\\DataspellProjects\\dsProject\\venv\\lib\\site-packages\\sklearn\\base.py:432: UserWarning: X has feature names, but DecisionTreeClassifier was fitted without feature names\n",
      "  warnings.warn(\n",
      "C:\\Users\\karol\\DataspellProjects\\dsProject\\venv\\lib\\site-packages\\sklearn\\base.py:432: UserWarning: X has feature names, but DecisionTreeClassifier was fitted without feature names\n",
      "  warnings.warn(\n",
      "C:\\Users\\karol\\DataspellProjects\\dsProject\\venv\\lib\\site-packages\\sklearn\\base.py:432: UserWarning: X has feature names, but DecisionTreeClassifier was fitted without feature names\n",
      "  warnings.warn(\n",
      "C:\\Users\\karol\\DataspellProjects\\dsProject\\venv\\lib\\site-packages\\sklearn\\base.py:432: UserWarning: X has feature names, but DecisionTreeClassifier was fitted without feature names\n",
      "  warnings.warn(\n",
      "C:\\Users\\karol\\DataspellProjects\\dsProject\\venv\\lib\\site-packages\\sklearn\\base.py:432: UserWarning: X has feature names, but DecisionTreeClassifier was fitted without feature names\n",
      "  warnings.warn(\n",
      "C:\\Users\\karol\\DataspellProjects\\dsProject\\venv\\lib\\site-packages\\sklearn\\base.py:432: UserWarning: X has feature names, but DecisionTreeClassifier was fitted without feature names\n",
      "  warnings.warn(\n",
      "C:\\Users\\karol\\DataspellProjects\\dsProject\\venv\\lib\\site-packages\\sklearn\\base.py:432: UserWarning: X has feature names, but DecisionTreeClassifier was fitted without feature names\n",
      "  warnings.warn(\n",
      "C:\\Users\\karol\\DataspellProjects\\dsProject\\venv\\lib\\site-packages\\sklearn\\base.py:432: UserWarning: X has feature names, but DecisionTreeClassifier was fitted without feature names\n",
      "  warnings.warn(\n",
      "C:\\Users\\karol\\DataspellProjects\\dsProject\\venv\\lib\\site-packages\\sklearn\\base.py:432: UserWarning: X has feature names, but DecisionTreeClassifier was fitted without feature names\n",
      "  warnings.warn(\n",
      "C:\\Users\\karol\\DataspellProjects\\dsProject\\venv\\lib\\site-packages\\sklearn\\base.py:432: UserWarning: X has feature names, but DecisionTreeClassifier was fitted without feature names\n",
      "  warnings.warn(\n",
      "C:\\Users\\karol\\DataspellProjects\\dsProject\\venv\\lib\\site-packages\\sklearn\\base.py:432: UserWarning: X has feature names, but DecisionTreeClassifier was fitted without feature names\n",
      "  warnings.warn(\n",
      "C:\\Users\\karol\\DataspellProjects\\dsProject\\venv\\lib\\site-packages\\sklearn\\base.py:432: UserWarning: X has feature names, but DecisionTreeClassifier was fitted without feature names\n",
      "  warnings.warn(\n",
      "C:\\Users\\karol\\DataspellProjects\\dsProject\\venv\\lib\\site-packages\\sklearn\\base.py:432: UserWarning: X has feature names, but DecisionTreeClassifier was fitted without feature names\n",
      "  warnings.warn(\n",
      "C:\\Users\\karol\\DataspellProjects\\dsProject\\venv\\lib\\site-packages\\sklearn\\base.py:432: UserWarning: X has feature names, but DecisionTreeClassifier was fitted without feature names\n",
      "  warnings.warn(\n",
      "C:\\Users\\karol\\DataspellProjects\\dsProject\\venv\\lib\\site-packages\\sklearn\\base.py:432: UserWarning: X has feature names, but DecisionTreeClassifier was fitted without feature names\n",
      "  warnings.warn(\n",
      "C:\\Users\\karol\\DataspellProjects\\dsProject\\venv\\lib\\site-packages\\sklearn\\base.py:432: UserWarning: X has feature names, but DecisionTreeClassifier was fitted without feature names\n",
      "  warnings.warn(\n",
      "C:\\Users\\karol\\DataspellProjects\\dsProject\\venv\\lib\\site-packages\\sklearn\\base.py:432: UserWarning: X has feature names, but DecisionTreeClassifier was fitted without feature names\n",
      "  warnings.warn(\n",
      "C:\\Users\\karol\\DataspellProjects\\dsProject\\venv\\lib\\site-packages\\sklearn\\base.py:432: UserWarning: X has feature names, but DecisionTreeClassifier was fitted without feature names\n",
      "  warnings.warn(\n",
      "C:\\Users\\karol\\DataspellProjects\\dsProject\\venv\\lib\\site-packages\\sklearn\\base.py:432: UserWarning: X has feature names, but DecisionTreeClassifier was fitted without feature names\n",
      "  warnings.warn(\n",
      "C:\\Users\\karol\\DataspellProjects\\dsProject\\venv\\lib\\site-packages\\sklearn\\base.py:432: UserWarning: X has feature names, but DecisionTreeClassifier was fitted without feature names\n",
      "  warnings.warn(\n",
      "C:\\Users\\karol\\DataspellProjects\\dsProject\\venv\\lib\\site-packages\\sklearn\\base.py:432: UserWarning: X has feature names, but DecisionTreeClassifier was fitted without feature names\n",
      "  warnings.warn(\n",
      "C:\\Users\\karol\\DataspellProjects\\dsProject\\venv\\lib\\site-packages\\sklearn\\base.py:432: UserWarning: X has feature names, but DecisionTreeClassifier was fitted without feature names\n",
      "  warnings.warn(\n",
      "C:\\Users\\karol\\DataspellProjects\\dsProject\\venv\\lib\\site-packages\\sklearn\\base.py:432: UserWarning: X has feature names, but DecisionTreeClassifier was fitted without feature names\n",
      "  warnings.warn(\n",
      "C:\\Users\\karol\\DataspellProjects\\dsProject\\venv\\lib\\site-packages\\sklearn\\base.py:432: UserWarning: X has feature names, but DecisionTreeClassifier was fitted without feature names\n",
      "  warnings.warn(\n",
      "C:\\Users\\karol\\DataspellProjects\\dsProject\\venv\\lib\\site-packages\\sklearn\\base.py:432: UserWarning: X has feature names, but DecisionTreeClassifier was fitted without feature names\n",
      "  warnings.warn(\n",
      "C:\\Users\\karol\\DataspellProjects\\dsProject\\venv\\lib\\site-packages\\sklearn\\base.py:432: UserWarning: X has feature names, but DecisionTreeClassifier was fitted without feature names\n",
      "  warnings.warn(\n",
      "C:\\Users\\karol\\DataspellProjects\\dsProject\\venv\\lib\\site-packages\\sklearn\\base.py:432: UserWarning: X has feature names, but DecisionTreeClassifier was fitted without feature names\n",
      "  warnings.warn(\n",
      "C:\\Users\\karol\\DataspellProjects\\dsProject\\venv\\lib\\site-packages\\sklearn\\base.py:432: UserWarning: X has feature names, but DecisionTreeClassifier was fitted without feature names\n",
      "  warnings.warn(\n",
      "C:\\Users\\karol\\DataspellProjects\\dsProject\\venv\\lib\\site-packages\\sklearn\\base.py:432: UserWarning: X has feature names, but DecisionTreeClassifier was fitted without feature names\n",
      "  warnings.warn(\n",
      "C:\\Users\\karol\\DataspellProjects\\dsProject\\venv\\lib\\site-packages\\sklearn\\base.py:432: UserWarning: X has feature names, but DecisionTreeClassifier was fitted without feature names\n",
      "  warnings.warn(\n",
      "C:\\Users\\karol\\DataspellProjects\\dsProject\\venv\\lib\\site-packages\\sklearn\\base.py:432: UserWarning: X has feature names, but DecisionTreeClassifier was fitted without feature names\n",
      "  warnings.warn(\n",
      "C:\\Users\\karol\\DataspellProjects\\dsProject\\venv\\lib\\site-packages\\sklearn\\base.py:432: UserWarning: X has feature names, but DecisionTreeClassifier was fitted without feature names\n",
      "  warnings.warn(\n",
      "C:\\Users\\karol\\DataspellProjects\\dsProject\\venv\\lib\\site-packages\\sklearn\\base.py:432: UserWarning: X has feature names, but DecisionTreeClassifier was fitted without feature names\n",
      "  warnings.warn(\n",
      "C:\\Users\\karol\\DataspellProjects\\dsProject\\venv\\lib\\site-packages\\sklearn\\base.py:432: UserWarning: X has feature names, but DecisionTreeClassifier was fitted without feature names\n",
      "  warnings.warn(\n",
      "C:\\Users\\karol\\DataspellProjects\\dsProject\\venv\\lib\\site-packages\\sklearn\\base.py:432: UserWarning: X has feature names, but DecisionTreeClassifier was fitted without feature names\n",
      "  warnings.warn(\n",
      "C:\\Users\\karol\\DataspellProjects\\dsProject\\venv\\lib\\site-packages\\sklearn\\base.py:432: UserWarning: X has feature names, but DecisionTreeClassifier was fitted without feature names\n",
      "  warnings.warn(\n",
      "C:\\Users\\karol\\DataspellProjects\\dsProject\\venv\\lib\\site-packages\\sklearn\\base.py:432: UserWarning: X has feature names, but DecisionTreeClassifier was fitted without feature names\n",
      "  warnings.warn(\n",
      "C:\\Users\\karol\\DataspellProjects\\dsProject\\venv\\lib\\site-packages\\sklearn\\base.py:432: UserWarning: X has feature names, but DecisionTreeClassifier was fitted without feature names\n",
      "  warnings.warn(\n",
      "C:\\Users\\karol\\DataspellProjects\\dsProject\\venv\\lib\\site-packages\\sklearn\\base.py:432: UserWarning: X has feature names, but DecisionTreeClassifier was fitted without feature names\n",
      "  warnings.warn(\n",
      "C:\\Users\\karol\\DataspellProjects\\dsProject\\venv\\lib\\site-packages\\sklearn\\base.py:432: UserWarning: X has feature names, but DecisionTreeClassifier was fitted without feature names\n",
      "  warnings.warn(\n",
      "C:\\Users\\karol\\DataspellProjects\\dsProject\\venv\\lib\\site-packages\\sklearn\\base.py:432: UserWarning: X has feature names, but DecisionTreeClassifier was fitted without feature names\n",
      "  warnings.warn(\n",
      "C:\\Users\\karol\\DataspellProjects\\dsProject\\venv\\lib\\site-packages\\sklearn\\base.py:432: UserWarning: X has feature names, but DecisionTreeClassifier was fitted without feature names\n",
      "  warnings.warn(\n",
      "C:\\Users\\karol\\DataspellProjects\\dsProject\\venv\\lib\\site-packages\\sklearn\\base.py:432: UserWarning: X has feature names, but DecisionTreeClassifier was fitted without feature names\n",
      "  warnings.warn(\n",
      "C:\\Users\\karol\\DataspellProjects\\dsProject\\venv\\lib\\site-packages\\sklearn\\base.py:432: UserWarning: X has feature names, but DecisionTreeClassifier was fitted without feature names\n",
      "  warnings.warn(\n"
     ]
    }
   ],
   "source": [
    "import pandas as pd\n",
    "X_train, X_test, y_train, y_test = train_test_split(data_breast_cancer.data, data_breast_cancer.target, random_state=42)\n",
    "bc = BaggingClassifier( DecisionTreeClassifier(), n_estimators=30, max_samples=0.5, max_features=2,bootstrap=True,bootstrap_features=False)\n",
    "fn=data_breast_cancer[\"feature_names\"]\n",
    "\n",
    "bc.fit(X_train, y_train)\n",
    "estimator_info = []\n",
    "for columns,estimator in zip(bc.estimators_features_,bc.estimators_):\n",
    "    train_acc = accuracy_score(y_train, estimator.predict(X_train[[fn[columns[0]], fn[columns[1]]]]))\n",
    "    test_acc = accuracy_score(y_test, estimator.predict(X_test[[fn[columns[0]], fn[columns[1]]]]))\n",
    "\n",
    "    features=[fn[columns[0]], fn[columns[1]]]\n",
    "    estimator_info.append((train_acc, test_acc, features))\n",
    "\n",
    "df = pd.DataFrame(estimator_info, columns=['Train Accuracy', 'Test Accuracy', 'Features'])\n",
    "df = df.sort_values(by=['Test Accuracy', 'Train Accuracy'], ascending=False)\n",
    "with open('acc_fea_rank.pkl', 'wb') as f:\n",
    "    pkl.dump(df, f)\n",
    "print(df)"
   ]
  },
  {
   "cell_type": "code",
   "execution_count": 98,
   "metadata": {},
   "outputs": [],
   "source": []
  }
 ],
 "metadata": {
  "kernelspec": {
   "display_name": "Python 3 (ipykernel)",
   "language": "python",
   "name": "python3"
  },
  "language_info": {
   "codemirror_mode": {
    "name": "ipython",
    "version": 3
   },
   "file_extension": ".py",
   "mimetype": "text/x-python",
   "name": "python",
   "nbconvert_exporter": "python",
   "pygments_lexer": "ipython3",
   "version": "3.10.11"
  }
 },
 "nbformat": 4,
 "nbformat_minor": 1
}
