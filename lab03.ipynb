{
 "cells": [
  {
   "cell_type": "code",
   "execution_count": 1,
   "id": "16bb8225-0231-4081-8b66-034c32d41fec",
   "metadata": {
    "tags": []
   },
   "outputs": [],
   "source": [
    "import numpy as np\n",
    "import pandas as pd\n",
    "from sklearn.model_selection import train_test_split\n",
    "from sklearn.linear_model import LinearRegression\n",
    "from sklearn.metrics import mean_squared_error\n",
    "import sklearn.neighbors\n",
    "from sklearn.preprocessing import PolynomialFeatures\n",
    "\n",
    "size = 300\n",
    "X = np.random.rand(size)*5-2.5\n",
    "w4, w3, w2, w1, w0 = 1, 2, 1, -4, 2\n",
    "y = w4*(X**4) + w3*(X**3) + w2*(X**2) + w1*X + w0 + np.random.randn(size)*8-4\n",
    "df = pd.DataFrame({'x': X, 'y': y})\n",
    "df.to_csv('dane_do_regresji.csv',index=None)\n",
    "df=df.sort_values(by='x', ignore_index=True)\n",
    "# df.plot.scatter(x='x',y='y')"
   ]
  },
  {
   "cell_type": "code",
   "execution_count": 2,
   "id": "a1367fff-c7cc-4981-b718-30d3352b1f7a",
   "metadata": {
    "tags": []
   },
   "outputs": [],
   "source": [
    "X=np.array(df[\"x\"]).reshape(-1,1)\n",
    "y=np.array(df[\"y\"]).reshape(-1,1)\n",
    "X_train, X_test, y_train, y_test = train_test_split(X, y, test_size = 0.2, random_state=42)\n",
    "\n",
    "dftest=pd.DataFrame({'x':X_test.reshape(-1), 'y':y_test.reshape(-1)}).sort_values(by='x')\n",
    "X_test=np.array(dftest['x']).reshape(-1, 1)\n",
    "y_test=np.array(dftest['y']).reshape(-1,1)"
   ]
  },
  {
   "cell_type": "code",
   "execution_count": 3,
   "id": "3254199d-667f-4f05-85bf-0a28fa5f264f",
   "metadata": {
    "tags": []
   },
   "outputs": [
    {
     "data": {
      "text/html": [
       "<style>#sk-container-id-1 {color: black;background-color: white;}#sk-container-id-1 pre{padding: 0;}#sk-container-id-1 div.sk-toggleable {background-color: white;}#sk-container-id-1 label.sk-toggleable__label {cursor: pointer;display: block;width: 100%;margin-bottom: 0;padding: 0.3em;box-sizing: border-box;text-align: center;}#sk-container-id-1 label.sk-toggleable__label-arrow:before {content: \"▸\";float: left;margin-right: 0.25em;color: #696969;}#sk-container-id-1 label.sk-toggleable__label-arrow:hover:before {color: black;}#sk-container-id-1 div.sk-estimator:hover label.sk-toggleable__label-arrow:before {color: black;}#sk-container-id-1 div.sk-toggleable__content {max-height: 0;max-width: 0;overflow: hidden;text-align: left;background-color: #f0f8ff;}#sk-container-id-1 div.sk-toggleable__content pre {margin: 0.2em;color: black;border-radius: 0.25em;background-color: #f0f8ff;}#sk-container-id-1 input.sk-toggleable__control:checked~div.sk-toggleable__content {max-height: 200px;max-width: 100%;overflow: auto;}#sk-container-id-1 input.sk-toggleable__control:checked~label.sk-toggleable__label-arrow:before {content: \"▾\";}#sk-container-id-1 div.sk-estimator input.sk-toggleable__control:checked~label.sk-toggleable__label {background-color: #d4ebff;}#sk-container-id-1 div.sk-label input.sk-toggleable__control:checked~label.sk-toggleable__label {background-color: #d4ebff;}#sk-container-id-1 input.sk-hidden--visually {border: 0;clip: rect(1px 1px 1px 1px);clip: rect(1px, 1px, 1px, 1px);height: 1px;margin: -1px;overflow: hidden;padding: 0;position: absolute;width: 1px;}#sk-container-id-1 div.sk-estimator {font-family: monospace;background-color: #f0f8ff;border: 1px dotted black;border-radius: 0.25em;box-sizing: border-box;margin-bottom: 0.5em;}#sk-container-id-1 div.sk-estimator:hover {background-color: #d4ebff;}#sk-container-id-1 div.sk-parallel-item::after {content: \"\";width: 100%;border-bottom: 1px solid gray;flex-grow: 1;}#sk-container-id-1 div.sk-label:hover label.sk-toggleable__label {background-color: #d4ebff;}#sk-container-id-1 div.sk-serial::before {content: \"\";position: absolute;border-left: 1px solid gray;box-sizing: border-box;top: 0;bottom: 0;left: 50%;z-index: 0;}#sk-container-id-1 div.sk-serial {display: flex;flex-direction: column;align-items: center;background-color: white;padding-right: 0.2em;padding-left: 0.2em;position: relative;}#sk-container-id-1 div.sk-item {position: relative;z-index: 1;}#sk-container-id-1 div.sk-parallel {display: flex;align-items: stretch;justify-content: center;background-color: white;position: relative;}#sk-container-id-1 div.sk-item::before, #sk-container-id-1 div.sk-parallel-item::before {content: \"\";position: absolute;border-left: 1px solid gray;box-sizing: border-box;top: 0;bottom: 0;left: 50%;z-index: -1;}#sk-container-id-1 div.sk-parallel-item {display: flex;flex-direction: column;z-index: 1;position: relative;background-color: white;}#sk-container-id-1 div.sk-parallel-item:first-child::after {align-self: flex-end;width: 50%;}#sk-container-id-1 div.sk-parallel-item:last-child::after {align-self: flex-start;width: 50%;}#sk-container-id-1 div.sk-parallel-item:only-child::after {width: 0;}#sk-container-id-1 div.sk-dashed-wrapped {border: 1px dashed gray;margin: 0 0.4em 0.5em 0.4em;box-sizing: border-box;padding-bottom: 0.4em;background-color: white;}#sk-container-id-1 div.sk-label label {font-family: monospace;font-weight: bold;display: inline-block;line-height: 1.2em;}#sk-container-id-1 div.sk-label-container {text-align: center;}#sk-container-id-1 div.sk-container {/* jupyter's `normalize.less` sets `[hidden] { display: none; }` but bootstrap.min.css set `[hidden] { display: none !important; }` so we also need the `!important` here to be able to override the default hidden behavior on the sphinx rendered scikit-learn.org. See: https://github.com/scikit-learn/scikit-learn/issues/21755 */display: inline-block !important;position: relative;}#sk-container-id-1 div.sk-text-repr-fallback {display: none;}</style><div id=\"sk-container-id-1\" class=\"sk-top-container\"><div class=\"sk-text-repr-fallback\"><pre>LinearRegression()</pre><b>In a Jupyter environment, please rerun this cell to show the HTML representation or trust the notebook. <br />On GitHub, the HTML representation is unable to render, please try loading this page with nbviewer.org.</b></div><div class=\"sk-container\" hidden><div class=\"sk-item\"><div class=\"sk-estimator sk-toggleable\"><input class=\"sk-toggleable__control sk-hidden--visually\" id=\"sk-estimator-id-1\" type=\"checkbox\" checked><label for=\"sk-estimator-id-1\" class=\"sk-toggleable__label sk-toggleable__label-arrow\">LinearRegression</label><div class=\"sk-toggleable__content\"><pre>LinearRegression()</pre></div></div></div></div></div>"
      ],
      "text/plain": [
       "LinearRegression()"
      ]
     },
     "execution_count": 3,
     "metadata": {},
     "output_type": "execute_result"
    }
   ],
   "source": [
    "####LINEAR REGRESSION\n",
    "lin_reg=LinearRegression()\n",
    "lin_reg.fit(X_train,y_train)"
   ]
  },
  {
   "cell_type": "code",
   "execution_count": 4,
   "id": "e3b2ee0e-bc86-49d4-a9ef-97b33dace89a",
   "metadata": {
    "tags": []
   },
   "outputs": [],
   "source": [
    "# import matplotlib.pyplot as plt\n",
    "y_pred_train_lin = lin_reg.predict(X_train)\n",
    "y_pred_test_lin = lin_reg.predict(X_test)\n",
    "\n",
    "# plt.scatter(X_test, y_test, color ='b')\n",
    "# plt.plot(X_test, y_pred_test_lin, color ='k')\n",
    "  \n",
    "# plt.show()"
   ]
  },
  {
   "cell_type": "code",
   "execution_count": 5,
   "id": "e231837e-10ec-4427-a9b5-26ee31627e71",
   "metadata": {
    "tags": []
   },
   "outputs": [],
   "source": [
    "mse_lin_train=mean_squared_error(y_train, y_pred_train_lin)\n",
    "mse_lin_test=mean_squared_error(y_test, y_pred_test_lin)"
   ]
  },
  {
   "cell_type": "code",
   "execution_count": 6,
   "id": "f11e435e-3837-4366-97e6-e778bc5ffd81",
   "metadata": {
    "tags": []
   },
   "outputs": [],
   "source": [
    "#### KNN dla k=3\n",
    "knn_3_reg = sklearn.neighbors.KNeighborsRegressor(n_neighbors=3)\n",
    "knn_3_reg.fit(X_train, y_train)\n",
    "\n",
    "y_pred_train_knn_3 = knn_3_reg.predict(X_train)\n",
    "y_pred_test_knn_3 = knn_3_reg.predict(X_test)\n",
    "\n",
    "mse_knn_3_train=mean_squared_error(y_train,y_pred_train_knn_3)\n",
    "mse_knn_3_test=mean_squared_error(y_test,y_pred_test_knn_3)\n",
    "\n",
    "# plt.scatter(X_test, y_test, color ='b')\n",
    "# plt.scatter(X_test, y_pred_test_knn_3, color ='k')\n",
    "\n",
    "# plt.show()"
   ]
  },
  {
   "cell_type": "code",
   "execution_count": 7,
   "id": "298b3f3f-9ecf-4d98-97d4-d598f76a89fa",
   "metadata": {
    "tags": []
   },
   "outputs": [],
   "source": [
    "#### KNN dla k=5\n",
    "knn_5_reg=sklearn.neighbors.KNeighborsRegressor(n_neighbors=5)\n",
    "knn_5_reg.fit(X_train, y_train)\n",
    "\n",
    "y_pred_train_knn_5=knn_5_reg.predict(X_train)\n",
    "y_pred_test_knn_5=knn_5_reg.predict(X_test)\n",
    "\n",
    "mse_knn_5_train=mean_squared_error(y_train, y_pred_train_knn_5)\n",
    "mse_knn_5_test=mean_squared_error(y_test, y_pred_test_knn_5)\n",
    "\n",
    "# plt.scatter(X_test, y_test, color ='b')\n",
    "# plt.scatter(X_test, y_pred_test_knn_5, color ='k')\n",
    "  \n",
    "# plt.show()"
   ]
  },
  {
   "cell_type": "code",
   "execution_count": 8,
   "id": "e802ae89-0c03-48a6-9855-3304f085772d",
   "metadata": {
    "tags": []
   },
   "outputs": [],
   "source": [
    "#### Polynomial degree=2\n",
    "poly_2_reg = LinearRegression()\n",
    "poly_feature_2=PolynomialFeatures(degree=2, include_bias=False)\n",
    "poly_2_reg.fit(poly_feature_2.fit_transform(X_train), y_train)\n",
    "\n",
    "y_pred_train_poly_2 = poly_2_reg.predict(poly_feature_2.fit_transform(X_train))\n",
    "y_pred_test_poly_2 = poly_2_reg.predict(poly_feature_2.fit_transform(X_test))\n",
    "\n",
    "mse_poly_2_train=mean_squared_error(y_train, y_pred_train_poly_2)\n",
    "mse_poly_2_test=mean_squared_error(y_test, y_pred_test_poly_2)\n",
    "\n",
    "# plt.scatter(X_test, y_test, color ='b')\n",
    "# plt.plot(X_test, y_pred_test_poly_2, color ='k')\n",
    "  \n",
    "# plt.show()"
   ]
  },
  {
   "cell_type": "code",
   "execution_count": 9,
   "id": "b474ce63-3915-49e2-a9c7-519a3e4a8621",
   "metadata": {
    "tags": []
   },
   "outputs": [],
   "source": [
    "#### Polynomial degree=3\n",
    "poly_3_reg = LinearRegression()\n",
    "poly_feature_3=PolynomialFeatures(degree=3, include_bias=False)\n",
    "poly_3_reg.fit(poly_feature_3.fit_transform(X_train), y_train)\n",
    "\n",
    "y_pred_train_poly_3 = poly_3_reg.predict(poly_feature_3.fit_transform(X_train))\n",
    "y_pred_test_poly_3 = poly_3_reg.predict(poly_feature_3.fit_transform(X_test))\n",
    "\n",
    "mse_poly_3_train=mean_squared_error(y_train, y_pred_train_poly_3)\n",
    "mse_poly_3_test=mean_squared_error(y_test, y_pred_test_poly_3)\n",
    "\n",
    "# plt.scatter(X_test, y_test, color ='b')\n",
    "# plt.plot(X_test, y_pred_test_poly_3, color ='k')\n",
    "  \n",
    "# plt.show()"
   ]
  },
  {
   "cell_type": "code",
   "execution_count": 10,
   "id": "b520d407-3562-4bbe-92e4-91755668f885",
   "metadata": {
    "tags": []
   },
   "outputs": [],
   "source": [
    "#### Polynomial degree=4\n",
    "poly_4_reg = LinearRegression()\n",
    "poly_feature_4=PolynomialFeatures(degree=4, include_bias=False)\n",
    "poly_4_reg.fit(poly_feature_4.fit_transform(X_train), y_train)\n",
    "\n",
    "y_pred_train_poly_4 = poly_4_reg.predict(poly_feature_4.fit_transform(X_train))\n",
    "y_pred_test_poly_4 = poly_4_reg.predict(poly_feature_4.fit_transform(X_test))\n",
    "\n",
    "mse_poly_4_train=mean_squared_error(y_train, y_pred_train_poly_4)\n",
    "mse_poly_4_test=mean_squared_error(y_test, y_pred_test_poly_4)\n",
    "\n",
    "# plt.scatter(X_test, y_test, color ='b')\n",
    "# plt.plot(X_test, y_pred_test_poly_4, color ='k')\n",
    "  \n",
    "# plt.show()"
   ]
  },
  {
   "cell_type": "code",
   "execution_count": 11,
   "id": "e4fd93d2-9897-4707-9f52-4968b6fb5151",
   "metadata": {
    "tags": []
   },
   "outputs": [],
   "source": [
    "#### Polynomial degree=5\n",
    "poly_5_reg = LinearRegression()\n",
    "poly_feature_5=PolynomialFeatures(degree=5, include_bias=False)\n",
    "poly_5_reg.fit(poly_feature_5.fit_transform(X_train), y_train)\n",
    "\n",
    "y_pred_train_poly_5 = poly_5_reg.predict(poly_feature_5.fit_transform(X_train))\n",
    "y_pred_test_poly_5 = poly_5_reg.predict(poly_feature_5.fit_transform(X_test))\n",
    "\n",
    "mse_poly_5_train=mean_squared_error(y_train, y_pred_train_poly_5)\n",
    "mse_poly_5_test=mean_squared_error(y_test, y_pred_test_poly_5)\n",
    "\n",
    "# plt.scatter(X_test, y_test, color ='b')\n",
    "# plt.plot(X_test, y_pred_test_poly_5, color ='k')\n",
    "  \n",
    "# plt.show()"
   ]
  },
  {
   "cell_type": "code",
   "execution_count": 12,
   "id": "53a9ff93-030e-47df-9da1-69c100216ce8",
   "metadata": {
    "tags": []
   },
   "outputs": [
    {
     "name": "stdout",
     "output_type": "stream",
     "text": [
      "[256.7279631568263, 44.539764743449524, 53.28760853490302, 104.82552259071858, 79.79083676054057, 67.88289677103782, 67.6950023878101]\n",
      "[216.21503992776326, 83.9459719381911, 73.19991369269765, 77.96723200789691, 69.99933988847938, 69.64240549684294, 69.83882373304795]\n"
     ]
    }
   ],
   "source": [
    "train_mse=[mse_lin_train,mse_knn_3_train,mse_knn_5_train,mse_poly_2_train,mse_poly_3_train,mse_poly_4_train,mse_poly_5_train]\n",
    "test_mse=[mse_lin_test,mse_knn_3_test,mse_knn_5_test,mse_poly_2_test,mse_poly_3_test,mse_poly_4_test,mse_poly_5_test]\n",
    "print(train_mse)\n",
    "print(test_mse)"
   ]
  },
  {
   "cell_type": "code",
   "execution_count": 13,
   "id": "5b3ddb9d-0934-404e-8e59-32d61adef4b3",
   "metadata": {
    "tags": []
   },
   "outputs": [
    {
     "name": "stdout",
     "output_type": "stream",
     "text": [
      "             train_mse    test_mse\n",
      "lin_reg     256.727963  216.215040\n",
      "knn_3_reg    44.539765   83.945972\n",
      "knn_5_reg    53.287609   73.199914\n",
      "poly_2_reg  104.825523   77.967232\n",
      "poly_3_reg   79.790837   69.999340\n",
      "poly_4_reg   67.882897   69.642405\n",
      "poly_5_reg   67.695002   69.838824\n"
     ]
    }
   ],
   "source": [
    "dff = pd.DataFrame({'train_mse': train_mse, 'test_mse': test_mse})\n",
    "dff = dff.rename(index={0: 'lin_reg', 1: 'knn_3_reg', 2: 'knn_5_reg', 3:'poly_2_reg', 4:'poly_3_reg', 5:'poly_4_reg', 6:'poly_5_reg'})\n",
    "print(dff)"
   ]
  },
  {
   "cell_type": "code",
   "execution_count": 14,
   "id": "8eb641a6-ad70-48e1-bae7-f2bca79b819c",
   "metadata": {
    "tags": []
   },
   "outputs": [],
   "source": [
    "import pickle\n",
    "with open('mse.pkl', 'wb') as f:\n",
    "    pickle.dump(dff, f)"
   ]
  },
  {
   "cell_type": "code",
   "execution_count": 15,
   "id": "c15559bb-b8cb-443e-aa27-e636889e13ce",
   "metadata": {},
   "outputs": [
    {
     "name": "stdout",
     "output_type": "stream",
     "text": [
      "[(LinearRegression(), None), (KNeighborsRegressor(n_neighbors=3), None), (KNeighborsRegressor(), None), (LinearRegression(), PolynomialFeatures(include_bias=False)), (LinearRegression(), PolynomialFeatures(degree=3, include_bias=False)), (LinearRegression(), PolynomialFeatures(degree=4, include_bias=False)), (LinearRegression(), PolynomialFeatures(degree=5, include_bias=False))]\n"
     ]
    }
   ],
   "source": [
    "####Lista krotek\n",
    "tuples_list=[]\n",
    "tuples_list=[(lin_reg, None), (knn_3_reg, None), (knn_5_reg, None), (poly_2_reg, poly_feature_2), (poly_3_reg,poly_feature_3), (poly_4_reg, poly_feature_4),\n",
    "(poly_5_reg, poly_feature_5)]\n",
    "print(tuples_list)\n",
    "with open('reg.pkl', 'wb') as f:\n",
    "    pickle.dump(tuples_list,f)"
   ]
  },
  {
   "cell_type": "code",
   "execution_count": null,
   "id": "5d02baa9-afa8-44b4-bd3a-4172a9e1a9b3",
   "metadata": {},
   "outputs": [],
   "source": []
  }
 ],
 "metadata": {
  "kernelspec": {
   "display_name": "Python 3 (ipykernel)",
   "language": "python",
   "name": "python3"
  },
  "language_info": {
   "codemirror_mode": {
    "name": "ipython",
    "version": 3
   },
   "file_extension": ".py",
   "mimetype": "text/x-python",
   "name": "python",
   "nbconvert_exporter": "python",
   "pygments_lexer": "ipython3",
   "version": "3.11.1"
  }
 },
 "nbformat": 4,
 "nbformat_minor": 5
}
